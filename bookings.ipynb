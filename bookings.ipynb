{
 "cells": [
  {
   "cell_type": "code",
   "execution_count": 1,
   "id": "688c10d6-89f7-466e-a9e7-8eca73f4a4d8",
   "metadata": {},
   "outputs": [],
   "source": [
    "import pandas as pd"
   ]
  },
  {
   "cell_type": "code",
   "execution_count": 162,
   "id": "a336598a-b082-4582-9684-cf3f649de89d",
   "metadata": {},
   "outputs": [],
   "source": [
    "bookings = pd.read_csv('2_bookings.csv', sep=';')"
   ]
  },
  {
   "cell_type": "code",
   "execution_count": 17,
   "id": "70621352-defb-430d-984d-8cfc2fb2d5de",
   "metadata": {},
   "outputs": [
    {
     "data": {
      "text/plain": [
       "(119390, 21)"
      ]
     },
     "execution_count": 17,
     "metadata": {},
     "output_type": "execute_result"
    }
   ],
   "source": [
    "bookings.shape"
   ]
  },
  {
   "cell_type": "code",
   "execution_count": 166,
   "id": "a7aee477-5d89-450c-9589-ccca7f6eb94a",
   "metadata": {},
   "outputs": [
    {
     "data": {
      "text/html": [
       "<div>\n",
       "<style scoped>\n",
       "    .dataframe tbody tr th:only-of-type {\n",
       "        vertical-align: middle;\n",
       "    }\n",
       "\n",
       "    .dataframe tbody tr th {\n",
       "        vertical-align: top;\n",
       "    }\n",
       "\n",
       "    .dataframe thead th {\n",
       "        text-align: right;\n",
       "    }\n",
       "</style>\n",
       "<table border=\"1\" class=\"dataframe\">\n",
       "  <thead>\n",
       "    <tr style=\"text-align: right;\">\n",
       "      <th></th>\n",
       "      <th>hotel</th>\n",
       "      <th>is_canceled</th>\n",
       "      <th>lead_time</th>\n",
       "      <th>arrival_full_date</th>\n",
       "      <th>arrival_date_year</th>\n",
       "      <th>arrival_date_month</th>\n",
       "      <th>arrival_date_week_number</th>\n",
       "      <th>arrival_date_day_of_month</th>\n",
       "      <th>stays_in_weekend_nights</th>\n",
       "      <th>stays_in_week_nights</th>\n",
       "      <th>...</th>\n",
       "      <th>children</th>\n",
       "      <th>babies</th>\n",
       "      <th>meal</th>\n",
       "      <th>country</th>\n",
       "      <th>reserved_room_type</th>\n",
       "      <th>assigned_room_type</th>\n",
       "      <th>customer_type</th>\n",
       "      <th>reservation_status</th>\n",
       "      <th>reservation_status_date</th>\n",
       "      <th>total_kids</th>\n",
       "    </tr>\n",
       "  </thead>\n",
       "  <tbody>\n",
       "    <tr>\n",
       "      <th>0</th>\n",
       "      <td>Resort Hotel</td>\n",
       "      <td>0</td>\n",
       "      <td>342</td>\n",
       "      <td>2015-07-01</td>\n",
       "      <td>2015</td>\n",
       "      <td>July</td>\n",
       "      <td>27</td>\n",
       "      <td>1</td>\n",
       "      <td>0</td>\n",
       "      <td>0</td>\n",
       "      <td>...</td>\n",
       "      <td>0.0</td>\n",
       "      <td>0</td>\n",
       "      <td>BB</td>\n",
       "      <td>PRT</td>\n",
       "      <td>C</td>\n",
       "      <td>C</td>\n",
       "      <td>Transient</td>\n",
       "      <td>Check-Out</td>\n",
       "      <td>2015-07-01</td>\n",
       "      <td>0.0</td>\n",
       "    </tr>\n",
       "    <tr>\n",
       "      <th>1</th>\n",
       "      <td>Resort Hotel</td>\n",
       "      <td>0</td>\n",
       "      <td>737</td>\n",
       "      <td>2015-07-01</td>\n",
       "      <td>2015</td>\n",
       "      <td>July</td>\n",
       "      <td>27</td>\n",
       "      <td>1</td>\n",
       "      <td>0</td>\n",
       "      <td>0</td>\n",
       "      <td>...</td>\n",
       "      <td>0.0</td>\n",
       "      <td>0</td>\n",
       "      <td>BB</td>\n",
       "      <td>PRT</td>\n",
       "      <td>C</td>\n",
       "      <td>C</td>\n",
       "      <td>Transient</td>\n",
       "      <td>Check-Out</td>\n",
       "      <td>2015-07-01</td>\n",
       "      <td>0.0</td>\n",
       "    </tr>\n",
       "    <tr>\n",
       "      <th>2</th>\n",
       "      <td>Resort Hotel</td>\n",
       "      <td>0</td>\n",
       "      <td>7</td>\n",
       "      <td>2015-07-01</td>\n",
       "      <td>2015</td>\n",
       "      <td>July</td>\n",
       "      <td>27</td>\n",
       "      <td>1</td>\n",
       "      <td>0</td>\n",
       "      <td>1</td>\n",
       "      <td>...</td>\n",
       "      <td>0.0</td>\n",
       "      <td>0</td>\n",
       "      <td>BB</td>\n",
       "      <td>GBR</td>\n",
       "      <td>A</td>\n",
       "      <td>C</td>\n",
       "      <td>Transient</td>\n",
       "      <td>Check-Out</td>\n",
       "      <td>2015-07-02</td>\n",
       "      <td>0.0</td>\n",
       "    </tr>\n",
       "    <tr>\n",
       "      <th>3</th>\n",
       "      <td>Resort Hotel</td>\n",
       "      <td>0</td>\n",
       "      <td>13</td>\n",
       "      <td>2015-07-01</td>\n",
       "      <td>2015</td>\n",
       "      <td>July</td>\n",
       "      <td>27</td>\n",
       "      <td>1</td>\n",
       "      <td>0</td>\n",
       "      <td>1</td>\n",
       "      <td>...</td>\n",
       "      <td>0.0</td>\n",
       "      <td>0</td>\n",
       "      <td>BB</td>\n",
       "      <td>GBR</td>\n",
       "      <td>A</td>\n",
       "      <td>A</td>\n",
       "      <td>Transient</td>\n",
       "      <td>Check-Out</td>\n",
       "      <td>2015-07-02</td>\n",
       "      <td>0.0</td>\n",
       "    </tr>\n",
       "    <tr>\n",
       "      <th>4</th>\n",
       "      <td>Resort Hotel</td>\n",
       "      <td>0</td>\n",
       "      <td>14</td>\n",
       "      <td>2015-07-01</td>\n",
       "      <td>2015</td>\n",
       "      <td>July</td>\n",
       "      <td>27</td>\n",
       "      <td>1</td>\n",
       "      <td>0</td>\n",
       "      <td>2</td>\n",
       "      <td>...</td>\n",
       "      <td>0.0</td>\n",
       "      <td>0</td>\n",
       "      <td>BB</td>\n",
       "      <td>GBR</td>\n",
       "      <td>A</td>\n",
       "      <td>A</td>\n",
       "      <td>Transient</td>\n",
       "      <td>Check-Out</td>\n",
       "      <td>2015-07-03</td>\n",
       "      <td>0.0</td>\n",
       "    </tr>\n",
       "    <tr>\n",
       "      <th>5</th>\n",
       "      <td>Resort Hotel</td>\n",
       "      <td>0</td>\n",
       "      <td>14</td>\n",
       "      <td>2015-07-01</td>\n",
       "      <td>2015</td>\n",
       "      <td>July</td>\n",
       "      <td>27</td>\n",
       "      <td>1</td>\n",
       "      <td>0</td>\n",
       "      <td>2</td>\n",
       "      <td>...</td>\n",
       "      <td>0.0</td>\n",
       "      <td>0</td>\n",
       "      <td>BB</td>\n",
       "      <td>GBR</td>\n",
       "      <td>A</td>\n",
       "      <td>A</td>\n",
       "      <td>Transient</td>\n",
       "      <td>Check-Out</td>\n",
       "      <td>2015-07-03</td>\n",
       "      <td>0.0</td>\n",
       "    </tr>\n",
       "    <tr>\n",
       "      <th>6</th>\n",
       "      <td>Resort Hotel</td>\n",
       "      <td>0</td>\n",
       "      <td>0</td>\n",
       "      <td>2015-07-01</td>\n",
       "      <td>2015</td>\n",
       "      <td>July</td>\n",
       "      <td>27</td>\n",
       "      <td>1</td>\n",
       "      <td>0</td>\n",
       "      <td>2</td>\n",
       "      <td>...</td>\n",
       "      <td>0.0</td>\n",
       "      <td>0</td>\n",
       "      <td>BB</td>\n",
       "      <td>PRT</td>\n",
       "      <td>C</td>\n",
       "      <td>C</td>\n",
       "      <td>Transient</td>\n",
       "      <td>Check-Out</td>\n",
       "      <td>2015-07-03</td>\n",
       "      <td>0.0</td>\n",
       "    </tr>\n",
       "  </tbody>\n",
       "</table>\n",
       "<p>7 rows × 22 columns</p>\n",
       "</div>"
      ],
      "text/plain": [
       "          hotel  is_canceled  lead_time arrival_full_date  arrival_date_year  \\\n",
       "0  Resort Hotel            0        342        2015-07-01               2015   \n",
       "1  Resort Hotel            0        737        2015-07-01               2015   \n",
       "2  Resort Hotel            0          7        2015-07-01               2015   \n",
       "3  Resort Hotel            0         13        2015-07-01               2015   \n",
       "4  Resort Hotel            0         14        2015-07-01               2015   \n",
       "5  Resort Hotel            0         14        2015-07-01               2015   \n",
       "6  Resort Hotel            0          0        2015-07-01               2015   \n",
       "\n",
       "  arrival_date_month  arrival_date_week_number  arrival_date_day_of_month  \\\n",
       "0               July                        27                          1   \n",
       "1               July                        27                          1   \n",
       "2               July                        27                          1   \n",
       "3               July                        27                          1   \n",
       "4               July                        27                          1   \n",
       "5               July                        27                          1   \n",
       "6               July                        27                          1   \n",
       "\n",
       "   stays_in_weekend_nights  stays_in_week_nights  ...  children  babies  meal  \\\n",
       "0                        0                     0  ...       0.0       0    BB   \n",
       "1                        0                     0  ...       0.0       0    BB   \n",
       "2                        0                     1  ...       0.0       0    BB   \n",
       "3                        0                     1  ...       0.0       0    BB   \n",
       "4                        0                     2  ...       0.0       0    BB   \n",
       "5                        0                     2  ...       0.0       0    BB   \n",
       "6                        0                     2  ...       0.0       0    BB   \n",
       "\n",
       "   country reserved_room_type assigned_room_type customer_type  \\\n",
       "0      PRT                  C                  C     Transient   \n",
       "1      PRT                  C                  C     Transient   \n",
       "2      GBR                  A                  C     Transient   \n",
       "3      GBR                  A                  A     Transient   \n",
       "4      GBR                  A                  A     Transient   \n",
       "5      GBR                  A                  A     Transient   \n",
       "6      PRT                  C                  C     Transient   \n",
       "\n",
       "  reservation_status reservation_status_date total_kids  \n",
       "0          Check-Out              2015-07-01        0.0  \n",
       "1          Check-Out              2015-07-01        0.0  \n",
       "2          Check-Out              2015-07-02        0.0  \n",
       "3          Check-Out              2015-07-02        0.0  \n",
       "4          Check-Out              2015-07-03        0.0  \n",
       "5          Check-Out              2015-07-03        0.0  \n",
       "6          Check-Out              2015-07-03        0.0  \n",
       "\n",
       "[7 rows x 22 columns]"
      ]
     },
     "execution_count": 166,
     "metadata": {},
     "output_type": "execute_result"
    }
   ],
   "source": [
    "bookings[:7]"
   ]
  },
  {
   "cell_type": "code",
   "execution_count": 29,
   "id": "9a80878a-4a0a-408e-8f79-75e3a83efb04",
   "metadata": {},
   "outputs": [
    {
     "data": {
      "text/plain": [
       "hotel                         object\n",
       "is_canceled                    int64\n",
       "lead_time                      int64\n",
       "arrival_full_date             object\n",
       "arrival_date_year              int64\n",
       "arrival_date_month            object\n",
       "arrival_date_week_number       int64\n",
       "arrival_date_day_of_month      int64\n",
       "stays_in_weekend_nights        int64\n",
       "stays_in_week_nights           int64\n",
       "stays_total_nights             int64\n",
       "adults                         int64\n",
       "children                     float64\n",
       "babies                         int64\n",
       "meal                          object\n",
       "country                       object\n",
       "reserved_room_type            object\n",
       "assigned_room_type            object\n",
       "customer_type                 object\n",
       "reservation_status            object\n",
       "reservation_status_date       object\n",
       "dtype: object"
      ]
     },
     "execution_count": 29,
     "metadata": {},
     "output_type": "execute_result"
    }
   ],
   "source": [
    "bookings.dtypes"
   ]
  },
  {
   "cell_type": "code",
   "execution_count": 164,
   "id": "f5c17800-d654-4dd9-b51f-bf53ed943060",
   "metadata": {},
   "outputs": [],
   "source": [
    "#приведение имен к нижнему регистру и snale_case\n",
    "bookings.columns = bookings.columns.str.lower().str.replace(' ', '_')"
   ]
  },
  {
   "cell_type": "code",
   "execution_count": 242,
   "id": "2c079164-3cf6-4835-9208-a287091c61fb",
   "metadata": {},
   "outputs": [],
   "source": [
    "#топ-5 стран с наибольшим числом бронирований\n",
    "bookings_by_country_top5 = bookings.query('is_canceled == 0')['country'].value_counts()[:5]"
   ]
  },
  {
   "cell_type": "code",
   "execution_count": 59,
   "id": "922772fa-da64-42cb-8f1b-f783856f3eea",
   "metadata": {},
   "outputs": [],
   "source": [
    "#средняя продолжительность бронирования в зависимости от типа отеля\n",
    "avg_durings_by_hotel = bookings \\\n",
    "    .groupby('hotel', as_index=False) \\\n",
    "    .aggregate({'stays_total_nights': 'mean'}).round(2)"
   ]
  },
  {
   "cell_type": "code",
   "execution_count": 246,
   "id": "d8b75b0e-4175-4f3a-af8a-58c58f2eb966",
   "metadata": {},
   "outputs": [],
   "source": [
    "#количество бронирований с заменой типа комнаты\n",
    "changings_room_type = bookings \\\n",
    "    .query('assigned_room_type != reserved_room_type') \\\n",
    "    .aggregate({'assigned_room_type': 'count'}) "
   ]
  },
  {
   "cell_type": "code",
   "execution_count": 249,
   "id": "75d250b1-e1f5-48e5-8e69-d59d72664388",
   "metadata": {},
   "outputs": [],
   "source": [
    "#количество бронирований по месяцам в рамках года\n",
    "bookings_by_years_and_months = bookings \\\n",
    "    .groupby('arrival_date_year')['arrival_date_month'] \\\n",
    "    .value_counts()"
   ]
  },
  {
   "cell_type": "code",
   "execution_count": 252,
   "id": "28de58ea-b6df-4580-a64d-a1d36a747fe9",
   "metadata": {},
   "outputs": [],
   "source": [
    "#самый популярный месяц бронирования в 2016 году\n",
    "poplular_month_2016=bookings \\\n",
    "    .query('arrival_date_year == 2016') \\\n",
    "    .groupby('arrival_date_year')['arrival_date_month'] \\\n",
    "    .value_counts() \\\n",
    "    .idxmax()"
   ]
  },
  {
   "cell_type": "code",
   "execution_count": 105,
   "id": "d2845070-64f5-48f1-bb4c-ab0fc70008ad",
   "metadata": {},
   "outputs": [],
   "source": [
    "#самый популярный месяц бронирования в 2017 году\n",
    "popular_month_2017=bookings \\\n",
    "    .query('arrival_date_year == 2017') \\\n",
    "    .groupby('arrival_date_year')['arrival_date_month'] \\\n",
    "    .value_counts() \\\n",
    "    .idxmax()"
   ]
  },
  {
   "cell_type": "code",
   "execution_count": 154,
   "id": "39eff3a1-f03c-4feb-a74d-628084bb4119",
   "metadata": {},
   "outputs": [],
   "source": [
    "#количество отмен бронирований по месяцам в рамках года\n",
    "bookings_by_years_and_months = bookings \\cancelled_bookings_by_month = bookings \\\n",
    "    .query('is_canceled == 1 and hotel == \"City Hotel\"') \\\n",
    "    .groupby('arrival_date_year')['arrival_date_month'].value_counts()"
   ]
  },
  {
   "cell_type": "code",
   "execution_count": 253,
   "id": "4a04120f-2dfb-4e28-b27f-a59e59d497f7",
   "metadata": {},
   "outputs": [],
   "source": [
    "#среднее количество гостей по возрастной категории на одно бронирование\n",
    "avg_by_ages = bookings \\\n",
    "    .aggregate({'adults': 'mean','children': 'mean','babies': 'mean'}) \\\n",
    "    .round(2)"
   ]
  },
  {
   "cell_type": "code",
   "execution_count": 256,
   "id": "c64b429c-f5a4-4792-b86f-2faac6abd3c8",
   "metadata": {},
   "outputs": [],
   "source": [
    "#add total_kids\n",
    "bookings['total_kids'] = bookings.children + bookings.babies \n"
   ]
  },
  {
   "cell_type": "code",
   "execution_count": 170,
   "id": "a0608073-d9ab-4d23-85bf-25d42be76467",
   "metadata": {},
   "outputs": [],
   "source": [
    "# наибольшее среднее количество детей на одно бронирование в зависимости от типа отеля\n",
    "bookings_with_kids_by_types_max = bookings \\\n",
    "    .groupby('hotel') \\\n",
    "    .aggregate({'total_kids': 'mean'}) \\\n",
    "    .max()"
   ]
  },
  {
   "cell_type": "code",
   "execution_count": 257,
   "id": "f1441477-4105-4be1-bdc7-d40091429ea6",
   "metadata": {},
   "outputs": [],
   "source": [
    "#add has_kids\n",
    "bookings['has_kids'] = bookings.total_kids > 0\n"
   ]
  },
  {
   "cell_type": "code",
   "execution_count": 219,
   "id": "49728a53-7e5d-403c-9e8a-d25b80cbca81",
   "metadata": {},
   "outputs": [],
   "source": [
    "#процент отмен бронирования среди гостей с детьми\n",
    "churn_rate_has_kids = (bookings.query('is_canceled == 1 and has_kids').is_canceled.count()\\\n",
    "     /bookings.query('has_kids').is_canceled.count() \\\n",
    "     * 100) \\\n",
    "    .round(2)"
   ]
  },
  {
   "cell_type": "code",
   "execution_count": 222,
   "id": "d3b6a63e-4278-4920-89db-4a7fc7cb6c7e",
   "metadata": {},
   "outputs": [],
   "source": [
    "#процент отмен бронирования среди гостей без детей\n",
    "churn_rate_no_kids = (bookings.query('is_canceled == 1 and has_kids==False').is_canceled.count()\\\n",
    "     /bookings.query('has_kids==False').is_canceled.count() \\\n",
    "     * 100) \\\n",
    "    .round(2)"
   ]
  },
  {
   "cell_type": "code",
   "execution_count": null,
   "id": "4d84a6cd-60df-46ac-bc82-8d9f62c38cf0",
   "metadata": {},
   "outputs": [],
   "source": []
  }
 ],
 "metadata": {
  "kernelspec": {
   "display_name": "Python 3 (ipykernel)",
   "language": "python",
   "name": "python3"
  },
  "language_info": {
   "codemirror_mode": {
    "name": "ipython",
    "version": 3
   },
   "file_extension": ".py",
   "mimetype": "text/x-python",
   "name": "python",
   "nbconvert_exporter": "python",
   "pygments_lexer": "ipython3",
   "version": "3.11.5"
  }
 },
 "nbformat": 4,
 "nbformat_minor": 5
}
